{
 "cells": [
  {
   "cell_type": "markdown",
   "id": "c5654def",
   "metadata": {},
   "source": [
    "Today, I am starting a series of leetcode problems. I'll solve a problem and add it here."
   ]
  },
  {
   "cell_type": "code",
   "execution_count": 5,
   "id": "d54800c6",
   "metadata": {},
   "outputs": [],
   "source": [
    "# # 1-Two Sum\n",
    "# # Using map\n",
    "# function twoSum(nums, target) {\n",
    "#     let map = new Map()\n",
    "\n",
    "#     for (let i = 0; i < nums.length; i ++){\n",
    "#         value = nums[i]\n",
    "#         pair = target - nums[i]\n",
    "#         if (map.has(pair)){\n",
    "#             return [map.get(pair), i]\n",
    "#         }else {\n",
    "#             map.set(value, i)\n",
    "#         }\n",
    "#     }\n",
    "# }\n",
    "# #Time Complexity --> O(n)"
   ]
  },
  {
   "cell_type": "code",
   "execution_count": 6,
   "id": "e4c1c9e1",
   "metadata": {},
   "outputs": [],
   "source": [
    "\n",
    "# # 2-Merge Two Sorted Lists\n",
    "# # Definition for singly-linked list.\n",
    "# # class ListNode:\n",
    "# #     def __init__(self, val=0, next=None):\n",
    "# #         self.val = val\n",
    "# #         self.next = next\n",
    "\n",
    "# dummy = ListNode()\n",
    "# curr = dummy\n",
    "\n",
    "# carry = 0\n",
    "# while l1 or l2 or carry:\n",
    "#     v1 = l1.val if l1 else 0\n",
    "#     v2 = l2.val if l2 else 0\n",
    "\n",
    "#     sum = v1 + v2 + carry\n",
    "#     carry = sum // 10\n",
    "#     sum %= 10\n",
    "#     curr.next = ListNode(sum)\n",
    "\n",
    "#     curr = curr.next        \n",
    "#     l1 = l1.next if l1 else None\n",
    "#     l2 = l2.next if l2 else None\n",
    "\n",
    "# return dummy.next"
   ]
  },
  {
   "cell_type": "code",
   "execution_count": null,
   "id": "62950027",
   "metadata": {},
   "outputs": [],
   "source": [
    "# 9. Palindrome Number\n",
    "/**\n",
    " * @param {number} x\n",
    " * @return {boolean}\n",
    " */\n",
    "var isPalindrome = function(x) {\n",
    "    if(x < 0 || (x % 10 == 0 && x != 0)) return false\n",
    "    const arr = Array.from(String(x), Number)\n",
    "    while (arr.length > 1){\n",
    "        if (arr.shift() !== arr.pop()){\n",
    "            return false\n",
    "        }\n",
    "    }return true\n",
    "};"
   ]
  },
  {
   "cell_type": "code",
   "execution_count": null,
   "id": "14aa3799",
   "metadata": {},
   "outputs": [],
   "source": [
    "# 11. Container With Most Water\n",
    "/**\n",
    " * @param {number[]} height\n",
    " * @return {number}\n",
    " */\n",
    "var maxArea = function(height) {\n",
    "    let max = 0\n",
    "    let left = 0\n",
    "    let right = height.length - 1\n",
    "    while (left < right){\n",
    "        let w = right - left\n",
    "        let h = Math.min(height[left], height[right])\n",
    "        let area = h * w\n",
    "        max = Math.max(max, area)\n",
    "        if(height[left] < height[right]) left ++\n",
    "        else right --\n",
    "    }return max\n",
    "};"
   ]
  },
  {
   "cell_type": "code",
   "execution_count": null,
   "id": "a632d5a5",
   "metadata": {},
   "outputs": [],
   "source": [
    "# 13. Roman to Integer\n",
    "/**\n",
    " * @param {string} s\n",
    " * @return {number}\n",
    " */\n",
    "var romanToInt = function(s) {\n",
    "    const roman = {'I' : 1, 'V' : 5, 'X' : 10, 'L' : 50, 'C' : 100, 'D' : 500, 'M' : 1000}\n",
    "\n",
    "    let res = 0\n",
    "    for (let i=0; i < s.length; i ++){\n",
    "        if ((roman[s[i]] < roman[s[i+1]]) && (roman[s[i-1]] < roman[s[i+1]])) return 0\n",
    "        if ( (i+1 < s.length) && (roman[s[i]] < roman[s[i+1]])) res -= roman[s[i]]\n",
    "        else res += roman[s[i]]\n",
    "    }return res\n",
    "}"
   ]
  },
  {
   "cell_type": "code",
   "execution_count": null,
   "id": "f0949eb4",
   "metadata": {},
   "outputs": [],
   "source": [
    "# 14. Longest Common Prefix\n",
    "/**\n",
    " * @param {string[]} strs\n",
    " * @return {string}\n",
    " */\n",
    "var longestCommonPrefix = function(strs) {\n",
    "    if (strs.length == 0) return \"\"\n",
    "    let prefix = strs[0]\n",
    "    for (let i=1; i < strs.length; i ++)  {\n",
    "        while(strs[i].indexOf(prefix) !== 0){\n",
    "            prefix = prefix.substring(0, prefix.length -1)\n",
    "            if (prefix === \"\") return \"\"\n",
    "        }\n",
    "    }return prefix\n",
    "};"
   ]
  },
  {
   "cell_type": "code",
   "execution_count": null,
   "id": "668d7fd0",
   "metadata": {},
   "outputs": [],
   "source": [
    "# 20. Valid Parentheses\n",
    "/**\n",
    " * @param {string} s\n",
    " * @return {boolean}\n",
    " */\n",
    "var isValid = function(s) {\n",
    "    if (s.length%2 !== 0) return false\n",
    "    \n",
    "    const stack = []\n",
    "    for (let i=0; i < s.length; i ++){\n",
    "        let c = s.charAt(i)\n",
    "        switch (c){\n",
    "            case '(' : stack.push(')');\n",
    "                break;\n",
    "            case '[' : stack.push(']');\n",
    "                break;\n",
    "            case '{' : stack.push('}');\n",
    "                break;\n",
    "            default  : if(c !== stack.pop()) {\n",
    "                return false\n",
    "            } \n",
    "        }\n",
    "    }return stack.length === 0\n",
    "};"
   ]
  },
  {
   "cell_type": "code",
   "execution_count": null,
   "id": "8bedcbbe",
   "metadata": {},
   "outputs": [],
   "source": [
    "# 21. Merge Two Sorted Lists\n",
    "var mergeTwoLists = function(list1, list2) { \n",
    "    var mergedHead = { val : -1, next : null },\n",
    "        crt = mergedHead;\n",
    "    while(list1 && list2) {\n",
    "        if(list1.val < list2.val) {\n",
    "            crt.next = list1;\n",
    "            list1 = list1.next;\n",
    "        } else {\n",
    "            crt.next = list2;\n",
    "            list2 = list2.next;\n",
    "        }\n",
    "        crt = crt.next;\n",
    "    }\n",
    "    crt.next = list1 || list2;\n",
    "    \n",
    "    return mergedHead.next; \n",
    "};"
   ]
  },
  {
   "cell_type": "code",
   "execution_count": null,
   "id": "fc90dcd0",
   "metadata": {},
   "outputs": [],
   "source": [
    "# 26. Remove Duplicates from Sorted Array\n",
    "//Time Complexity --> O(n)\n",
    "var removeDuplicates = function(nums) {\n",
    "    let j = 1\n",
    "    for(let i= 1; i < nums.length; i ++){\n",
    "        if(nums[j - 1] !== nums[i]){\n",
    "            nums[j] = nums[i]\n",
    "            j += 1 \n",
    "        }\n",
    "    }\n",
    "    return j\n",
    "};"
   ]
  },
  {
   "cell_type": "code",
   "execution_count": null,
   "id": "0d4ea99c",
   "metadata": {},
   "outputs": [],
   "source": [
    "# 27. Remove Element\n",
    "/**\n",
    " * @param {number[]} nums\n",
    " * @param {number} val\n",
    " * @return {number}\n",
    " */\n",
    "var removeElement = function(nums, val) {\n",
    "    let k = 0\n",
    "    for(let i = 0; i<nums.length; i++){\n",
    "        if(nums[i] !== val){\n",
    "            nums[k] = nums[i]\n",
    "            k++\n",
    "        }\n",
    "    }\n",
    "    return k\n",
    "};\n",
    "//Time Complexity = O(n)"
   ]
  },
  {
   "cell_type": "code",
   "execution_count": null,
   "id": "542a31f2",
   "metadata": {},
   "outputs": [],
   "source": [
    "# 1569. Number of Ways to Reorder Array to Get Same BST\n"
   ]
  }
 ],
 "metadata": {
  "kernelspec": {
   "display_name": "Python 3 (ipykernel)",
   "language": "python",
   "name": "python3"
  },
  "language_info": {
   "codemirror_mode": {
    "name": "ipython",
    "version": 3
   },
   "file_extension": ".py",
   "mimetype": "text/x-python",
   "name": "python",
   "nbconvert_exporter": "python",
   "pygments_lexer": "ipython3",
   "version": "3.9.13"
  }
 },
 "nbformat": 4,
 "nbformat_minor": 5
}
